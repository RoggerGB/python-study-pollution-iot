{
 "cells": [
  {
   "cell_type": "code",
   "execution_count": 2,
   "id": "84cbfc28-fee8-4a09-be8b-1f68b6558c3b",
   "metadata": {},
   "outputs": [],
   "source": [
    "import pandas as pd\n",
    "import psycopg2\n",
    "import traceback\n",
    "\n",
    "\n",
    "class Conexion_BD:\n",
    "    def __init__(self, host,port,name,user,password):\n",
    "        self.host = host\n",
    "        self.port = port\n",
    "        self.name = name\n",
    "        self.user = user\n",
    "        self.password = password\n",
    "        self.estado = \"Correcto\"\n",
    "        self.conexion = ''\n",
    "        self.Estado_Conexion = self.crear_conexion()\n",
    "\n",
    "    def crear_conexion(self):\n",
    "        cxn = True\n",
    "        try:\n",
    "            self.conexion = psycopg2.connect(\n",
    "                host=self.host,\n",
    "                port=self.port,\n",
    "                database=self.name,\n",
    "                user=self.user,\n",
    "                password=self.password)\n",
    "        except Exception as e:\n",
    "            self.estado = f\"Error de conexion: \\nServer: {self.host}\\nDATABASE: {self.name}\"\n",
    "            cxn = False\n",
    "        return cxn\n",
    "\n",
    "    def consultar_bd(self, consulta):\n",
    "        df = None\n",
    "        self.estado = \"Correcto\"\n",
    "        try:\n",
    "            cursor = self.conexion.cursor()\n",
    "            cursor.execute(consulta)\n",
    "            records = cursor.fetchall()\n",
    "            columnas = [desc[0] for desc in cursor.description]\n",
    "            df = pd.DataFrame(records, columns=columnas)\n",
    "            cursor.close()\n",
    "        except Exception as e:\n",
    "            self.estado = f\"Error en consulta: {traceback.format_exc()}\"\n",
    "        return df\n",
    "\n",
    "    def cerrar_conexion(self):\n",
    "        self.conexion.close()        \n",
    "        self.Estado_Conexion = False\n"
   ]
  },
  {
   "cell_type": "code",
   "execution_count": 3,
   "id": "c44abf99-bfc9-4841-93b5-f1e34a6c8af5",
   "metadata": {},
   "outputs": [],
   "source": [
    "db_host = 'database-iot-pry20241050.clguogmy6dz7.us-east-2.rds.amazonaws.com'\n",
    "db_port = 5432\n",
    "db_name = 'iotdatabase'\n",
    "db_user = 'pry20241050'\n",
    "db_password = 'tH6gn6c59OX9'"
   ]
  },
  {
   "cell_type": "code",
   "execution_count": 4,
   "id": "d900481a-31ff-460e-bbaf-61be4afcfbdd",
   "metadata": {},
   "outputs": [],
   "source": [
    "bd = Conexion_BD(db_host,db_port,db_name,db_user,db_password)"
   ]
  },
  {
   "cell_type": "code",
   "execution_count": 5,
   "id": "018c82f9-d40e-48db-b84e-838747597ac7",
   "metadata": {},
   "outputs": [
    {
     "data": {
      "text/plain": [
       "True"
      ]
     },
     "execution_count": 5,
     "metadata": {},
     "output_type": "execute_result"
    }
   ],
   "source": [
    "bd.Estado_Conexion"
   ]
  },
  {
   "cell_type": "code",
   "execution_count": 6,
   "id": "202f6e0c-ba15-4927-b8bd-6738d35a0dd5",
   "metadata": {},
   "outputs": [],
   "source": [
    "consulta = \"\"\"SELECT * \n",
    "FROM medicion \n",
    "WHERE date BETWEEN '2024-08-25' AND '2024-09-30' \"\"\""
   ]
  },
  {
   "cell_type": "code",
   "execution_count": 7,
   "id": "d10697ea-2fed-4791-96bf-a2fd9fb61ecd",
   "metadata": {},
   "outputs": [],
   "source": [
    "consulta_sensores = \"\"\"SELECT A.id,B.name FROM sensor A LEFT JOIN tipo_gas B ON A.gas_type_id = B.id\"\"\""
   ]
  },
  {
   "cell_type": "code",
   "execution_count": 8,
   "id": "cffd8b3b-6877-4a7c-83e8-6914bed92906",
   "metadata": {},
   "outputs": [],
   "source": [
    "df_datos = bd.consultar_bd(consulta)"
   ]
  },
  {
   "cell_type": "code",
   "execution_count": 9,
   "id": "b44e93eb-3ee7-4c18-8792-5756c7d0285e",
   "metadata": {},
   "outputs": [],
   "source": [
    "df_sensores = bd.consultar_bd(consulta_sensores)"
   ]
  },
  {
   "cell_type": "code",
   "execution_count": 10,
   "id": "96c2baeb-30d0-4229-92d5-1b456ad92f51",
   "metadata": {},
   "outputs": [],
   "source": [
    "df_datos = df_datos[[\"id\",\"date\",\"sensor_id\",\"value\"]]"
   ]
  },
  {
   "cell_type": "code",
   "execution_count": 11,
   "id": "b8891282-1691-4cb2-803a-85b49e0ab409",
   "metadata": {},
   "outputs": [],
   "source": [
    "df_merge = pd.merge(df_datos,df_sensores,how='left',left_on='sensor_id',right_on='id')"
   ]
  },
  {
   "cell_type": "code",
   "execution_count": 12,
   "id": "1046f5f1-0185-4a30-86fc-4e81d4a17e55",
   "metadata": {},
   "outputs": [],
   "source": [
    "df_merge = df_merge[[\"id_x\",\"date\",\"name\",\"value\"]]"
   ]
  },
  {
   "cell_type": "code",
   "execution_count": 13,
   "id": "b627b302-3c74-48ae-84bb-121ecf9e8e5e",
   "metadata": {},
   "outputs": [],
   "source": [
    "df_merge[\"fecha\"] = pd.to_datetime(df_merge[\"date\"])"
   ]
  },
  {
   "cell_type": "code",
   "execution_count": 14,
   "id": "1bba1654-cc17-4d7c-b06f-f9c200dd7484",
   "metadata": {},
   "outputs": [],
   "source": [
    "df_merge['fecha'] = df_merge['fecha'].dt.strftime('%Y-%m-%d %H:%M:%S')"
   ]
  },
  {
   "cell_type": "code",
   "execution_count": 15,
   "id": "a2226760-45f2-4668-b0b6-feff5f4ba316",
   "metadata": {},
   "outputs": [],
   "source": [
    "df_merge[\"fecha\"] = pd.to_datetime(df_merge[\"date\"])\n",
    "df_merge['fecha'] = df_merge['fecha'].dt.tz_convert('Etc/GMT+5')"
   ]
  },
  {
   "cell_type": "code",
   "execution_count": 16,
   "id": "7b4f77f8-6f69-4672-ae14-960f89d6ea1f",
   "metadata": {},
   "outputs": [],
   "source": [
    "df_merge = df_merge[[\"id_x\",\"fecha\",\"name\",\"value\"]]"
   ]
  },
  {
   "cell_type": "code",
   "execution_count": 17,
   "id": "971f5601-6052-4a19-ab1c-9c8094c4ebdc",
   "metadata": {},
   "outputs": [
    {
     "data": {
      "text/html": [
       "<div>\n",
       "<style scoped>\n",
       "    .dataframe tbody tr th:only-of-type {\n",
       "        vertical-align: middle;\n",
       "    }\n",
       "\n",
       "    .dataframe tbody tr th {\n",
       "        vertical-align: top;\n",
       "    }\n",
       "\n",
       "    .dataframe thead th {\n",
       "        text-align: right;\n",
       "    }\n",
       "</style>\n",
       "<table border=\"1\" class=\"dataframe\">\n",
       "  <thead>\n",
       "    <tr style=\"text-align: right;\">\n",
       "      <th></th>\n",
       "      <th>id_x</th>\n",
       "      <th>fecha</th>\n",
       "      <th>name</th>\n",
       "      <th>value</th>\n",
       "    </tr>\n",
       "  </thead>\n",
       "  <tbody>\n",
       "    <tr>\n",
       "      <th>0</th>\n",
       "      <td>8749</td>\n",
       "      <td>2024-08-26 19:08:52-05:00</td>\n",
       "      <td>MONOXIDO DE CARBONO</td>\n",
       "      <td>0.3280</td>\n",
       "    </tr>\n",
       "    <tr>\n",
       "      <th>1</th>\n",
       "      <td>8750</td>\n",
       "      <td>2024-08-26 19:08:52-05:00</td>\n",
       "      <td>DIOXIDO DE NITROGENO</td>\n",
       "      <td>16.9960</td>\n",
       "    </tr>\n",
       "    <tr>\n",
       "      <th>2</th>\n",
       "      <td>8751</td>\n",
       "      <td>2024-08-26 19:08:52-05:00</td>\n",
       "      <td>DIOXIDO DE AZUFRE</td>\n",
       "      <td>16.9670</td>\n",
       "    </tr>\n",
       "    <tr>\n",
       "      <th>3</th>\n",
       "      <td>8752</td>\n",
       "      <td>2024-08-26 19:08:52-05:00</td>\n",
       "      <td>MATERIAL PARTICULADO 2.5</td>\n",
       "      <td>34.8920</td>\n",
       "    </tr>\n",
       "    <tr>\n",
       "      <th>4</th>\n",
       "      <td>8753</td>\n",
       "      <td>2024-08-26 19:08:52-05:00</td>\n",
       "      <td>MATERIAL PARTICULADO 10</td>\n",
       "      <td>35.4160</td>\n",
       "    </tr>\n",
       "    <tr>\n",
       "      <th>...</th>\n",
       "      <td>...</td>\n",
       "      <td>...</td>\n",
       "      <td>...</td>\n",
       "      <td>...</td>\n",
       "    </tr>\n",
       "    <tr>\n",
       "      <th>8797</th>\n",
       "      <td>17546</td>\n",
       "      <td>2024-08-31 21:20:45-05:00</td>\n",
       "      <td>DIOXIDO DE NITROGENO</td>\n",
       "      <td>1.5780</td>\n",
       "    </tr>\n",
       "    <tr>\n",
       "      <th>8798</th>\n",
       "      <td>17547</td>\n",
       "      <td>2024-08-31 21:20:45-05:00</td>\n",
       "      <td>DIOXIDO DE AZUFRE</td>\n",
       "      <td>17.1160</td>\n",
       "    </tr>\n",
       "    <tr>\n",
       "      <th>8799</th>\n",
       "      <td>17548</td>\n",
       "      <td>2024-08-31 21:20:45-05:00</td>\n",
       "      <td>MATERIAL PARTICULADO 2.5</td>\n",
       "      <td>100.7310</td>\n",
       "    </tr>\n",
       "    <tr>\n",
       "      <th>8800</th>\n",
       "      <td>17549</td>\n",
       "      <td>2024-08-31 21:20:45-05:00</td>\n",
       "      <td>MATERIAL PARTICULADO 10</td>\n",
       "      <td>106.9820</td>\n",
       "    </tr>\n",
       "    <tr>\n",
       "      <th>8801</th>\n",
       "      <td>17550</td>\n",
       "      <td>2024-08-31 21:20:45-05:00</td>\n",
       "      <td>TEMPERATURA</td>\n",
       "      <td>26.2000</td>\n",
       "    </tr>\n",
       "  </tbody>\n",
       "</table>\n",
       "<p>8802 rows × 4 columns</p>\n",
       "</div>"
      ],
      "text/plain": [
       "       id_x                     fecha                      name     value\n",
       "0      8749 2024-08-26 19:08:52-05:00       MONOXIDO DE CARBONO    0.3280\n",
       "1      8750 2024-08-26 19:08:52-05:00      DIOXIDO DE NITROGENO   16.9960\n",
       "2      8751 2024-08-26 19:08:52-05:00         DIOXIDO DE AZUFRE   16.9670\n",
       "3      8752 2024-08-26 19:08:52-05:00  MATERIAL PARTICULADO 2.5   34.8920\n",
       "4      8753 2024-08-26 19:08:52-05:00   MATERIAL PARTICULADO 10   35.4160\n",
       "...     ...                       ...                       ...       ...\n",
       "8797  17546 2024-08-31 21:20:45-05:00      DIOXIDO DE NITROGENO    1.5780\n",
       "8798  17547 2024-08-31 21:20:45-05:00         DIOXIDO DE AZUFRE   17.1160\n",
       "8799  17548 2024-08-31 21:20:45-05:00  MATERIAL PARTICULADO 2.5  100.7310\n",
       "8800  17549 2024-08-31 21:20:45-05:00   MATERIAL PARTICULADO 10  106.9820\n",
       "8801  17550 2024-08-31 21:20:45-05:00               TEMPERATURA   26.2000\n",
       "\n",
       "[8802 rows x 4 columns]"
      ]
     },
     "execution_count": 17,
     "metadata": {},
     "output_type": "execute_result"
    }
   ],
   "source": [
    "df_merge"
   ]
  },
  {
   "cell_type": "code",
   "execution_count": 18,
   "id": "5fa59d45-c5b1-414a-9755-b97d244e10c3",
   "metadata": {},
   "outputs": [
    {
     "data": {
      "text/plain": [
       "array([26, 29, 30, 31])"
      ]
     },
     "execution_count": 18,
     "metadata": {},
     "output_type": "execute_result"
    }
   ],
   "source": [
    "df_merge.fecha.dt.day.unique()"
   ]
  },
  {
   "cell_type": "code",
   "execution_count": 112,
   "id": "982f4c68-16ae-4805-acb0-f5cacb40feaf",
   "metadata": {},
   "outputs": [],
   "source": [
    "df_29_agosto = df_merge.query(\"fecha.dt.day==29\").copy()\n",
    "df_30_agosto = df_merge.query(\"fecha.dt.day==30\").copy()\n",
    "df_31_agosto = df_merge.query(\"fecha.dt.day==31\").copy()"
   ]
  },
  {
   "cell_type": "code",
   "execution_count": 113,
   "id": "de65067b-3f87-4e9d-b825-01e05c990b0c",
   "metadata": {},
   "outputs": [
    {
     "data": {
      "text/plain": [
       "(2922, 4)"
      ]
     },
     "execution_count": 113,
     "metadata": {},
     "output_type": "execute_result"
    }
   ],
   "source": [
    "df_29_agosto.shape"
   ]
  },
  {
   "cell_type": "code",
   "execution_count": 114,
   "id": "f1dc306f-0f8d-4e1e-9937-28b04a6c7397",
   "metadata": {},
   "outputs": [
    {
     "data": {
      "text/plain": [
       "(1422, 4)"
      ]
     },
     "execution_count": 114,
     "metadata": {},
     "output_type": "execute_result"
    }
   ],
   "source": [
    "df_30_agosto.shape"
   ]
  },
  {
   "cell_type": "code",
   "execution_count": 115,
   "id": "b9f88fa5-3126-4d38-95b7-077cebee9d78",
   "metadata": {},
   "outputs": [
    {
     "data": {
      "text/plain": [
       "(4404, 4)"
      ]
     },
     "execution_count": 115,
     "metadata": {},
     "output_type": "execute_result"
    }
   ],
   "source": [
    "df_31_agosto.shape"
   ]
  },
  {
   "cell_type": "code",
   "execution_count": 40,
   "id": "b44155da-40d5-4a28-b073-57d345d96f98",
   "metadata": {},
   "outputs": [
    {
     "data": {
      "text/plain": [
       "array([ 7,  8,  9, 10, 11, 12, 13, 14, 15, 16, 17, 18, 19, 20, 21])"
      ]
     },
     "execution_count": 40,
     "metadata": {},
     "output_type": "execute_result"
    }
   ],
   "source": [
    "df_31_agosto.fecha.dt.hour.unique()"
   ]
  },
  {
   "cell_type": "code",
   "execution_count": 80,
   "id": "2ba90cf3-200a-4642-bc25-aec14b8fb16b",
   "metadata": {},
   "outputs": [],
   "source": [
    "ruta = r\"C:\\Users\\ROGGER\\Desktop\\Datos Senamhi\\Datos31.xlsx\""
   ]
  },
  {
   "cell_type": "code",
   "execution_count": 81,
   "id": "c513c66e-c3e7-4a4e-ac17-8db1503fd554",
   "metadata": {},
   "outputs": [],
   "source": [
    "datos31 = pd.read_excel(ruta)"
   ]
  },
  {
   "cell_type": "code",
   "execution_count": 83,
   "id": "790f06a0-b71d-4384-90ed-c9890942d37e",
   "metadata": {},
   "outputs": [],
   "source": [
    "datos31 = datos31.drop(columns={\"fecha\"})"
   ]
  },
  {
   "cell_type": "code",
   "execution_count": 84,
   "id": "7c69c9f1-c97e-49b6-9938-27fdff8ffa51",
   "metadata": {},
   "outputs": [],
   "source": [
    "datos31[\"hora\"] = datos31[\"hora\"].astype(str)"
   ]
  },
  {
   "cell_type": "code",
   "execution_count": 85,
   "id": "3c99f95e-0d34-41e4-b265-414002758cb4",
   "metadata": {},
   "outputs": [],
   "source": [
    "datos31['hour'] = datos31['hora'].str.split(':').str[0].astype(int)"
   ]
  },
  {
   "cell_type": "code",
   "execution_count": 116,
   "id": "5da15b28-bb72-4440-b79d-5c6786af498b",
   "metadata": {},
   "outputs": [
    {
     "name": "stderr",
     "output_type": "stream",
     "text": [
      "C:\\Users\\ROGGER\\AppData\\Local\\Temp\\ipykernel_9796\\2069443698.py:1: FutureWarning: 'H' is deprecated and will be removed in a future version, please use 'h' instead.\n",
      "  df_31_agosto['fecha_hora'] = df_31_agosto['fecha'].dt.floor('H')\n"
     ]
    }
   ],
   "source": [
    "df_31_agosto['fecha_hora'] = df_31_agosto['fecha'].dt.floor('H')"
   ]
  },
  {
   "cell_type": "code",
   "execution_count": 117,
   "id": "98f539c9-5ae1-43f5-8f2d-3b6d51880ad5",
   "metadata": {},
   "outputs": [],
   "source": [
    "df_promedio = df_31_agosto.groupby(['name', 'fecha_hora'])['value'].mean().reset_index()"
   ]
  },
  {
   "cell_type": "code",
   "execution_count": 118,
   "id": "c3cce77d-8a47-490c-a803-d46ec853bbdb",
   "metadata": {},
   "outputs": [],
   "source": [
    "df_promedio.loc[df_promedio[\"name\"]=='TEMPERATURA',\"name\"] = \"T\""
   ]
  },
  {
   "cell_type": "code",
   "execution_count": 119,
   "id": "680734b2-4256-43a6-88ec-7de301a73b51",
   "metadata": {},
   "outputs": [],
   "source": [
    "df_promedio.loc[df_promedio[\"name\"]=='DIOXIDO DE AZUFRE',\"name\"] = \"SO2\""
   ]
  },
  {
   "cell_type": "code",
   "execution_count": 120,
   "id": "eeb2efa9-1dab-4c2d-9407-8f82a3c38432",
   "metadata": {},
   "outputs": [],
   "source": [
    "df_promedio.loc[df_promedio[\"name\"]=='DIOXIDO DE NITROGENO',\"name\"] = \"NO2\""
   ]
  },
  {
   "cell_type": "code",
   "execution_count": 121,
   "id": "c19389b0-22e9-40f2-879d-11de0d9ac602",
   "metadata": {},
   "outputs": [],
   "source": [
    "df_promedio.loc[df_promedio[\"name\"]=='MONOXIDO DE CARBONO',\"name\"] = \"CO\""
   ]
  },
  {
   "cell_type": "code",
   "execution_count": 122,
   "id": "1deab0b2-f2dc-467a-b287-bdb51ded4db7",
   "metadata": {},
   "outputs": [],
   "source": [
    "df_promedio.loc[df_promedio[\"name\"]=='MATERIAL PARTICULADO 10',\"name\"] = \"PM10\""
   ]
  },
  {
   "cell_type": "code",
   "execution_count": 123,
   "id": "b8a1259a-c7c9-41ff-a988-8335cfaad0e1",
   "metadata": {},
   "outputs": [],
   "source": [
    "df_promedio.loc[df_promedio[\"name\"]=='MATERIAL PARTICULADO 2.5',\"name\"] = \"PM2.5\""
   ]
  },
  {
   "cell_type": "code",
   "execution_count": 124,
   "id": "1fb212f2-be7a-4735-96b5-4352edffd359",
   "metadata": {},
   "outputs": [],
   "source": [
    "masa_no2 = 46.01\n",
    "masa_so2 = 64.06\n",
    "masa_co = 28.01"
   ]
  },
  {
   "cell_type": "code",
   "execution_count": 125,
   "id": "90e6d0c8-63c0-4d75-b966-69b70f0e2b73",
   "metadata": {},
   "outputs": [],
   "source": [
    "df_promedio['value'] = df_promedio['value'].astype(float)"
   ]
  },
  {
   "cell_type": "code",
   "execution_count": 126,
   "id": "6b735afb-e918-4f63-acf7-8d28748292c0",
   "metadata": {},
   "outputs": [],
   "source": [
    "df_promedio.loc[df_promedio[\"name\"] == 'NO2', \"value\"] = 0.0409 * masa_no2 * df_promedio.loc[df_promedio[\"name\"] == 'NO2', \"value\"]"
   ]
  },
  {
   "cell_type": "code",
   "execution_count": 127,
   "id": "0eb19cbe-c677-4e68-ae49-d0943dc65af0",
   "metadata": {},
   "outputs": [],
   "source": [
    "df_promedio.loc[df_promedio[\"name\"] == 'SO2', \"value\"] = 0.0409 * masa_so2 * df_promedio.loc[df_promedio[\"name\"] == 'SO2', \"value\"]"
   ]
  },
  {
   "cell_type": "code",
   "execution_count": 128,
   "id": "e56b7e55-3f41-4f07-a844-a3dbab9c1025",
   "metadata": {},
   "outputs": [],
   "source": [
    "df_promedio.loc[df_promedio[\"name\"] == 'CO', \"value\"] = 0.0409 * masa_co * df_promedio.loc[df_promedio[\"name\"] == 'CO', \"value\"]"
   ]
  },
  {
   "cell_type": "code",
   "execution_count": 129,
   "id": "d5e9ba21-2a23-4438-9674-7172153689f6",
   "metadata": {},
   "outputs": [],
   "source": [
    "copia = df_promedio.copy()"
   ]
  },
  {
   "cell_type": "code",
   "execution_count": 130,
   "id": "0f5dc618-5508-44f8-9121-9dcaed0c9dc8",
   "metadata": {},
   "outputs": [],
   "source": [
    "copia['fecha_hora'] = pd.to_datetime(copia['fecha_hora'], format='%d/%m/%Y %H:%M')\n",
    "pivot_df = copia.pivot(index='fecha_hora', columns='name', values='value')\n",
    "pivot_df.reset_index(inplace=True)"
   ]
  },
  {
   "cell_type": "code",
   "execution_count": 131,
   "id": "6a3e3919-6497-47d7-960a-481fc402d606",
   "metadata": {},
   "outputs": [],
   "source": [
    "pivot_df['fecha'] = pivot_df['fecha_hora'].dt.strftime('%Y-%m-%d %H:%M:%S')"
   ]
  },
  {
   "cell_type": "code",
   "execution_count": 132,
   "id": "17d9de42-022c-4f74-9f0c-33a0d353401d",
   "metadata": {},
   "outputs": [],
   "source": [
    "pivot_df['hora'] = pivot_df['fecha_hora'].dt.strftime('%H:00')"
   ]
  },
  {
   "cell_type": "code",
   "execution_count": 133,
   "id": "b4a156a4-bbdb-4d6a-b4bd-4164affe8c30",
   "metadata": {},
   "outputs": [],
   "source": [
    "pivot_df = pivot_df[[\"fecha\",\"hora\",\"PM2.5\",\"PM10\",\"CO\",\"NO2\",\"SO2\"]]"
   ]
  },
  {
   "cell_type": "code",
   "execution_count": 134,
   "id": "3af01112-a108-4231-99b6-05b439b8906c",
   "metadata": {},
   "outputs": [
    {
     "data": {
      "text/html": [
       "<div>\n",
       "<style scoped>\n",
       "    .dataframe tbody tr th:only-of-type {\n",
       "        vertical-align: middle;\n",
       "    }\n",
       "\n",
       "    .dataframe tbody tr th {\n",
       "        vertical-align: top;\n",
       "    }\n",
       "\n",
       "    .dataframe thead th {\n",
       "        text-align: right;\n",
       "    }\n",
       "</style>\n",
       "<table border=\"1\" class=\"dataframe\">\n",
       "  <thead>\n",
       "    <tr style=\"text-align: right;\">\n",
       "      <th>name</th>\n",
       "      <th>hora</th>\n",
       "      <th>PM2.5</th>\n",
       "      <th>PM10</th>\n",
       "      <th>CO</th>\n",
       "      <th>NO2</th>\n",
       "      <th>SO2</th>\n",
       "    </tr>\n",
       "  </thead>\n",
       "  <tbody>\n",
       "    <tr>\n",
       "      <th>0</th>\n",
       "      <td>07:00</td>\n",
       "      <td>94.848150</td>\n",
       "      <td>110.330450</td>\n",
       "      <td>0.000000</td>\n",
       "      <td>6.473047</td>\n",
       "      <td>53.355828</td>\n",
       "    </tr>\n",
       "    <tr>\n",
       "      <th>1</th>\n",
       "      <td>08:00</td>\n",
       "      <td>85.546528</td>\n",
       "      <td>97.517698</td>\n",
       "      <td>1.040386</td>\n",
       "      <td>35.222671</td>\n",
       "      <td>49.160716</td>\n",
       "    </tr>\n",
       "    <tr>\n",
       "      <th>2</th>\n",
       "      <td>09:00</td>\n",
       "      <td>66.480642</td>\n",
       "      <td>71.134189</td>\n",
       "      <td>1.896588</td>\n",
       "      <td>49.837261</td>\n",
       "      <td>50.277353</td>\n",
       "    </tr>\n",
       "    <tr>\n",
       "      <th>3</th>\n",
       "      <td>10:00</td>\n",
       "      <td>56.346660</td>\n",
       "      <td>58.750849</td>\n",
       "      <td>0.375608</td>\n",
       "      <td>33.769560</td>\n",
       "      <td>49.086563</td>\n",
       "    </tr>\n",
       "    <tr>\n",
       "      <th>4</th>\n",
       "      <td>11:00</td>\n",
       "      <td>43.269904</td>\n",
       "      <td>43.819673</td>\n",
       "      <td>0.184333</td>\n",
       "      <td>27.241791</td>\n",
       "      <td>50.306851</td>\n",
       "    </tr>\n",
       "    <tr>\n",
       "      <th>5</th>\n",
       "      <td>12:00</td>\n",
       "      <td>48.963407</td>\n",
       "      <td>49.554130</td>\n",
       "      <td>0.133251</td>\n",
       "      <td>24.328236</td>\n",
       "      <td>51.604390</td>\n",
       "    </tr>\n",
       "    <tr>\n",
       "      <th>6</th>\n",
       "      <td>13:00</td>\n",
       "      <td>70.766818</td>\n",
       "      <td>71.976855</td>\n",
       "      <td>0.019517</td>\n",
       "      <td>16.339508</td>\n",
       "      <td>53.030798</td>\n",
       "    </tr>\n",
       "    <tr>\n",
       "      <th>7</th>\n",
       "      <td>14:00</td>\n",
       "      <td>86.268547</td>\n",
       "      <td>87.945547</td>\n",
       "      <td>0.026738</td>\n",
       "      <td>15.989767</td>\n",
       "      <td>51.973171</td>\n",
       "    </tr>\n",
       "    <tr>\n",
       "      <th>8</th>\n",
       "      <td>15:00</td>\n",
       "      <td>82.709463</td>\n",
       "      <td>84.168204</td>\n",
       "      <td>0.164756</td>\n",
       "      <td>23.040625</td>\n",
       "      <td>51.527826</td>\n",
       "    </tr>\n",
       "    <tr>\n",
       "      <th>9</th>\n",
       "      <td>16:00</td>\n",
       "      <td>97.113167</td>\n",
       "      <td>99.320370</td>\n",
       "      <td>0.112270</td>\n",
       "      <td>20.215995</td>\n",
       "      <td>49.768556</td>\n",
       "    </tr>\n",
       "    <tr>\n",
       "      <th>10</th>\n",
       "      <td>17:00</td>\n",
       "      <td>98.933815</td>\n",
       "      <td>101.665796</td>\n",
       "      <td>0.014787</td>\n",
       "      <td>12.380247</td>\n",
       "      <td>49.019658</td>\n",
       "    </tr>\n",
       "    <tr>\n",
       "      <th>11</th>\n",
       "      <td>18:00</td>\n",
       "      <td>43.995113</td>\n",
       "      <td>44.636981</td>\n",
       "      <td>0.007155</td>\n",
       "      <td>10.548108</td>\n",
       "      <td>52.297514</td>\n",
       "    </tr>\n",
       "    <tr>\n",
       "      <th>12</th>\n",
       "      <td>19:00</td>\n",
       "      <td>47.167981</td>\n",
       "      <td>48.101259</td>\n",
       "      <td>0.018860</td>\n",
       "      <td>12.874083</td>\n",
       "      <td>53.988299</td>\n",
       "    </tr>\n",
       "    <tr>\n",
       "      <th>13</th>\n",
       "      <td>20:00</td>\n",
       "      <td>63.958340</td>\n",
       "      <td>66.250075</td>\n",
       "      <td>0.006938</td>\n",
       "      <td>9.794638</td>\n",
       "      <td>51.660050</td>\n",
       "    </tr>\n",
       "    <tr>\n",
       "      <th>14</th>\n",
       "      <td>21:00</td>\n",
       "      <td>113.530211</td>\n",
       "      <td>121.320474</td>\n",
       "      <td>0.000543</td>\n",
       "      <td>5.077715</td>\n",
       "      <td>44.838777</td>\n",
       "    </tr>\n",
       "  </tbody>\n",
       "</table>\n",
       "</div>"
      ],
      "text/plain": [
       "name   hora       PM2.5        PM10        CO        NO2        SO2\n",
       "0     07:00   94.848150  110.330450  0.000000   6.473047  53.355828\n",
       "1     08:00   85.546528   97.517698  1.040386  35.222671  49.160716\n",
       "2     09:00   66.480642   71.134189  1.896588  49.837261  50.277353\n",
       "3     10:00   56.346660   58.750849  0.375608  33.769560  49.086563\n",
       "4     11:00   43.269904   43.819673  0.184333  27.241791  50.306851\n",
       "5     12:00   48.963407   49.554130  0.133251  24.328236  51.604390\n",
       "6     13:00   70.766818   71.976855  0.019517  16.339508  53.030798\n",
       "7     14:00   86.268547   87.945547  0.026738  15.989767  51.973171\n",
       "8     15:00   82.709463   84.168204  0.164756  23.040625  51.527826\n",
       "9     16:00   97.113167   99.320370  0.112270  20.215995  49.768556\n",
       "10    17:00   98.933815  101.665796  0.014787  12.380247  49.019658\n",
       "11    18:00   43.995113   44.636981  0.007155  10.548108  52.297514\n",
       "12    19:00   47.167981   48.101259  0.018860  12.874083  53.988299\n",
       "13    20:00   63.958340   66.250075  0.006938   9.794638  51.660050\n",
       "14    21:00  113.530211  121.320474  0.000543   5.077715  44.838777"
      ]
     },
     "execution_count": 134,
     "metadata": {},
     "output_type": "execute_result"
    }
   ],
   "source": [
    "pivot_df[[\"hora\",\"PM2.5\",\"PM10\",\"CO\",\"NO2\",\"SO2\"]]"
   ]
  },
  {
   "cell_type": "code",
   "execution_count": 135,
   "id": "7d176abf-4428-4222-86f4-4cc4005a69cf",
   "metadata": {},
   "outputs": [
    {
     "data": {
      "text/html": [
       "<div>\n",
       "<style scoped>\n",
       "    .dataframe tbody tr th:only-of-type {\n",
       "        vertical-align: middle;\n",
       "    }\n",
       "\n",
       "    .dataframe tbody tr th {\n",
       "        vertical-align: top;\n",
       "    }\n",
       "\n",
       "    .dataframe thead th {\n",
       "        text-align: right;\n",
       "    }\n",
       "</style>\n",
       "<table border=\"1\" class=\"dataframe\">\n",
       "  <thead>\n",
       "    <tr style=\"text-align: right;\">\n",
       "      <th></th>\n",
       "      <th>hour</th>\n",
       "      <th>PM2</th>\n",
       "      <th>PM10</th>\n",
       "      <th>CO</th>\n",
       "      <th>NO</th>\n",
       "      <th>SO</th>\n",
       "    </tr>\n",
       "  </thead>\n",
       "  <tbody>\n",
       "    <tr>\n",
       "      <th>15</th>\n",
       "      <td>8</td>\n",
       "      <td>43.5366</td>\n",
       "      <td>63.3896</td>\n",
       "      <td>0</td>\n",
       "      <td>42.224</td>\n",
       "      <td>4.1055</td>\n",
       "    </tr>\n",
       "    <tr>\n",
       "      <th>14</th>\n",
       "      <td>9</td>\n",
       "      <td>45.8280</td>\n",
       "      <td>64.1920</td>\n",
       "      <td>0</td>\n",
       "      <td>43.526</td>\n",
       "      <td>4.2075</td>\n",
       "    </tr>\n",
       "    <tr>\n",
       "      <th>13</th>\n",
       "      <td>10</td>\n",
       "      <td>42.7125</td>\n",
       "      <td>66.0690</td>\n",
       "      <td>0</td>\n",
       "      <td>47.425</td>\n",
       "      <td>4.6092</td>\n",
       "    </tr>\n",
       "    <tr>\n",
       "      <th>12</th>\n",
       "      <td>11</td>\n",
       "      <td>44.7225</td>\n",
       "      <td>68.1150</td>\n",
       "      <td>0</td>\n",
       "      <td>52.850</td>\n",
       "      <td>4.7070</td>\n",
       "    </tr>\n",
       "    <tr>\n",
       "      <th>11</th>\n",
       "      <td>12</td>\n",
       "      <td>47.7375</td>\n",
       "      <td>70.5000</td>\n",
       "      <td>0</td>\n",
       "      <td>52.899</td>\n",
       "      <td>4.3470</td>\n",
       "    </tr>\n",
       "    <tr>\n",
       "      <th>10</th>\n",
       "      <td>13</td>\n",
       "      <td>50.2500</td>\n",
       "      <td>71.7000</td>\n",
       "      <td>0</td>\n",
       "      <td>59.270</td>\n",
       "      <td>5.0300</td>\n",
       "    </tr>\n",
       "    <tr>\n",
       "      <th>9</th>\n",
       "      <td>14</td>\n",
       "      <td>52.0400</td>\n",
       "      <td>73.4100</td>\n",
       "      <td>0</td>\n",
       "      <td>59.890</td>\n",
       "      <td>5.2300</td>\n",
       "    </tr>\n",
       "    <tr>\n",
       "      <th>8</th>\n",
       "      <td>15</td>\n",
       "      <td>57.9500</td>\n",
       "      <td>80.2400</td>\n",
       "      <td>0</td>\n",
       "      <td>60.320</td>\n",
       "      <td>4.7900</td>\n",
       "    </tr>\n",
       "    <tr>\n",
       "      <th>7</th>\n",
       "      <td>16</td>\n",
       "      <td>66.0200</td>\n",
       "      <td>95.2600</td>\n",
       "      <td>0</td>\n",
       "      <td>62.180</td>\n",
       "      <td>4.7600</td>\n",
       "    </tr>\n",
       "    <tr>\n",
       "      <th>6</th>\n",
       "      <td>17</td>\n",
       "      <td>73.2300</td>\n",
       "      <td>109.0200</td>\n",
       "      <td>0</td>\n",
       "      <td>67.750</td>\n",
       "      <td>5.1700</td>\n",
       "    </tr>\n",
       "    <tr>\n",
       "      <th>5</th>\n",
       "      <td>18</td>\n",
       "      <td>77.4900</td>\n",
       "      <td>115.5500</td>\n",
       "      <td>0</td>\n",
       "      <td>75.500</td>\n",
       "      <td>5.0100</td>\n",
       "    </tr>\n",
       "    <tr>\n",
       "      <th>4</th>\n",
       "      <td>19</td>\n",
       "      <td>75.7600</td>\n",
       "      <td>108.2000</td>\n",
       "      <td>0</td>\n",
       "      <td>75.570</td>\n",
       "      <td>4.9500</td>\n",
       "    </tr>\n",
       "    <tr>\n",
       "      <th>3</th>\n",
       "      <td>20</td>\n",
       "      <td>68.5400</td>\n",
       "      <td>96.1100</td>\n",
       "      <td>0</td>\n",
       "      <td>70.550</td>\n",
       "      <td>5.2300</td>\n",
       "    </tr>\n",
       "    <tr>\n",
       "      <th>2</th>\n",
       "      <td>21</td>\n",
       "      <td>71.1100</td>\n",
       "      <td>99.5200</td>\n",
       "      <td>0</td>\n",
       "      <td>65.030</td>\n",
       "      <td>4.8300</td>\n",
       "    </tr>\n",
       "    <tr>\n",
       "      <th>1</th>\n",
       "      <td>22</td>\n",
       "      <td>90.3600</td>\n",
       "      <td>132.7300</td>\n",
       "      <td>0</td>\n",
       "      <td>67.550</td>\n",
       "      <td>4.9500</td>\n",
       "    </tr>\n",
       "    <tr>\n",
       "      <th>0</th>\n",
       "      <td>23</td>\n",
       "      <td>71.6100</td>\n",
       "      <td>98.9200</td>\n",
       "      <td>0</td>\n",
       "      <td>67.310</td>\n",
       "      <td>5.0200</td>\n",
       "    </tr>\n",
       "  </tbody>\n",
       "</table>\n",
       "</div>"
      ],
      "text/plain": [
       "    hour      PM2      PM10  CO      NO      SO\n",
       "15     8  43.5366   63.3896   0  42.224  4.1055\n",
       "14     9  45.8280   64.1920   0  43.526  4.2075\n",
       "13    10  42.7125   66.0690   0  47.425  4.6092\n",
       "12    11  44.7225   68.1150   0  52.850  4.7070\n",
       "11    12  47.7375   70.5000   0  52.899  4.3470\n",
       "10    13  50.2500   71.7000   0  59.270  5.0300\n",
       "9     14  52.0400   73.4100   0  59.890  5.2300\n",
       "8     15  57.9500   80.2400   0  60.320  4.7900\n",
       "7     16  66.0200   95.2600   0  62.180  4.7600\n",
       "6     17  73.2300  109.0200   0  67.750  5.1700\n",
       "5     18  77.4900  115.5500   0  75.500  5.0100\n",
       "4     19  75.7600  108.2000   0  75.570  4.9500\n",
       "3     20  68.5400   96.1100   0  70.550  5.2300\n",
       "2     21  71.1100   99.5200   0  65.030  4.8300\n",
       "1     22  90.3600  132.7300   0  67.550  4.9500\n",
       "0     23  71.6100   98.9200   0  67.310  5.0200"
      ]
     },
     "execution_count": 135,
     "metadata": {},
     "output_type": "execute_result"
    }
   ],
   "source": [
    "datos31[[\"hour\",\"PM2\",\"PM10\",\"CO\",\"NO\",\"SO\"]].sort_values(by=\"hour\")"
   ]
  },
  {
   "cell_type": "code",
   "execution_count": 136,
   "id": "a347b0e5-910a-42c6-b586-c217ef611227",
   "metadata": {},
   "outputs": [],
   "source": [
    "acumulado = df_merge.query(\"fecha.dt.day==31\").copy()"
   ]
  },
  {
   "cell_type": "code",
   "execution_count": 139,
   "id": "2f16e6d4-3ed3-4e5a-8901-4a68413828a1",
   "metadata": {},
   "outputs": [],
   "source": [
    "acumulado = acumulado.query(\"name == 'MATERIAL PARTICULADO 10'\")"
   ]
  },
  {
   "cell_type": "code",
   "execution_count": 153,
   "id": "77384ed6-11e3-475c-88a2-8ab2012471bd",
   "metadata": {},
   "outputs": [
    {
     "ename": "ValueError",
     "evalue": "The truth value of a Series is ambiguous. Use a.empty, a.bool(), a.item(), a.any() or a.all().",
     "output_type": "error",
     "traceback": [
      "\u001b[1;31m---------------------------------------------------------------------------\u001b[0m",
      "\u001b[1;31mValueError\u001b[0m                                Traceback (most recent call last)",
      "\u001b[1;32m~\\AppData\\Local\\Temp\\ipykernel_9796\\3610828723.py\u001b[0m in \u001b[0;36m?\u001b[1;34m()\u001b[0m\n\u001b[1;32m----> 1\u001b[1;33m \u001b[0macumulado\u001b[0m\u001b[1;33m.\u001b[0m\u001b[0mloc\u001b[0m\u001b[1;33m[\u001b[0m\u001b[1;33m(\u001b[0m\u001b[0macumulado\u001b[0m\u001b[1;33m.\u001b[0m\u001b[0mfecha\u001b[0m\u001b[1;33m.\u001b[0m\u001b[0mdt\u001b[0m\u001b[1;33m.\u001b[0m\u001b[0mhour\u001b[0m\u001b[1;33m>\u001b[0m\u001b[1;36m7\u001b[0m \u001b[1;33m&\u001b[0m \u001b[0macumulado\u001b[0m\u001b[1;33m.\u001b[0m\u001b[0mfecha\u001b[0m\u001b[1;33m.\u001b[0m\u001b[0mdt\u001b[0m\u001b[1;33m.\u001b[0m\u001b[0mhour\u001b[0m \u001b[1;33m<=\u001b[0m\u001b[1;36m8\u001b[0m\u001b[1;33m)\u001b[0m\u001b[1;33m]\u001b[0m\u001b[1;33m.\u001b[0m\u001b[0mvalue\u001b[0m\u001b[1;33m.\u001b[0m\u001b[0mmean\u001b[0m\u001b[1;33m(\u001b[0m\u001b[1;33m)\u001b[0m\u001b[1;33m\u001b[0m\u001b[1;33m\u001b[0m\u001b[0m\n\u001b[0m",
      "\u001b[1;32mC:\\ProgramData\\anaconda3\\Lib\\site-packages\\pandas\\core\\generic.py\u001b[0m in \u001b[0;36m?\u001b[1;34m(self)\u001b[0m\n\u001b[0;32m   1575\u001b[0m     \u001b[1;33m@\u001b[0m\u001b[0mfinal\u001b[0m\u001b[1;33m\u001b[0m\u001b[1;33m\u001b[0m\u001b[0m\n\u001b[0;32m   1576\u001b[0m     \u001b[1;32mdef\u001b[0m \u001b[0m__nonzero__\u001b[0m\u001b[1;33m(\u001b[0m\u001b[0mself\u001b[0m\u001b[1;33m)\u001b[0m \u001b[1;33m->\u001b[0m \u001b[0mNoReturn\u001b[0m\u001b[1;33m:\u001b[0m\u001b[1;33m\u001b[0m\u001b[1;33m\u001b[0m\u001b[0m\n\u001b[1;32m-> 1577\u001b[1;33m         raise ValueError(\n\u001b[0m\u001b[0;32m   1578\u001b[0m             \u001b[1;33mf\"\u001b[0m\u001b[1;33mThe truth value of a \u001b[0m\u001b[1;33m{\u001b[0m\u001b[0mtype\u001b[0m\u001b[1;33m(\u001b[0m\u001b[0mself\u001b[0m\u001b[1;33m)\u001b[0m\u001b[1;33m.\u001b[0m\u001b[0m__name__\u001b[0m\u001b[1;33m}\u001b[0m\u001b[1;33m is ambiguous. \u001b[0m\u001b[1;33m\"\u001b[0m\u001b[1;33m\u001b[0m\u001b[1;33m\u001b[0m\u001b[0m\n\u001b[0;32m   1579\u001b[0m             \u001b[1;34m\"Use a.empty, a.bool(), a.item(), a.any() or a.all().\"\u001b[0m\u001b[1;33m\u001b[0m\u001b[1;33m\u001b[0m\u001b[0m\n\u001b[0;32m   1580\u001b[0m         \u001b[1;33m)\u001b[0m\u001b[1;33m\u001b[0m\u001b[1;33m\u001b[0m\u001b[0m\n",
      "\u001b[1;31mValueError\u001b[0m: The truth value of a Series is ambiguous. Use a.empty, a.bool(), a.item(), a.any() or a.all()."
     ]
    }
   ],
   "source": [
    "acumulado.loc[(acumulado.fecha.dt.hour>7 & acumulado.fecha.dt.hour <=8)].value.mean()"
   ]
  },
  {
   "cell_type": "code",
   "execution_count": 154,
   "id": "d54944e8-077b-4120-ad39-b7b0d9b27f32",
   "metadata": {},
   "outputs": [
    {
     "data": {
      "text/plain": [
       "97.51769811320754"
      ]
     },
     "execution_count": 154,
     "metadata": {},
     "output_type": "execute_result"
    }
   ],
   "source": [
    " acumulado.loc[(acumulado.fecha.dt.hour > 7) & (acumulado.fecha.dt.hour <= 8), \"value\"].mean()"
   ]
  },
  {
   "cell_type": "code",
   "execution_count": 155,
   "id": "e6b6bb65-b3c8-48a3-8c26-c29c2edad32a",
   "metadata": {},
   "outputs": [
    {
     "data": {
      "text/html": [
       "<div>\n",
       "<style scoped>\n",
       "    .dataframe tbody tr th:only-of-type {\n",
       "        vertical-align: middle;\n",
       "    }\n",
       "\n",
       "    .dataframe tbody tr th {\n",
       "        vertical-align: top;\n",
       "    }\n",
       "\n",
       "    .dataframe thead th {\n",
       "        text-align: right;\n",
       "    }\n",
       "</style>\n",
       "<table border=\"1\" class=\"dataframe\">\n",
       "  <thead>\n",
       "    <tr style=\"text-align: right;\">\n",
       "      <th>name</th>\n",
       "      <th>fecha</th>\n",
       "      <th>hora</th>\n",
       "      <th>PM2.5</th>\n",
       "      <th>PM10</th>\n",
       "      <th>CO</th>\n",
       "      <th>NO2</th>\n",
       "      <th>SO2</th>\n",
       "    </tr>\n",
       "  </thead>\n",
       "  <tbody>\n",
       "    <tr>\n",
       "      <th>0</th>\n",
       "      <td>2024-08-31 07:00:00</td>\n",
       "      <td>07:00</td>\n",
       "      <td>94.848150</td>\n",
       "      <td>110.330450</td>\n",
       "      <td>0.000000</td>\n",
       "      <td>6.473047</td>\n",
       "      <td>53.355828</td>\n",
       "    </tr>\n",
       "    <tr>\n",
       "      <th>1</th>\n",
       "      <td>2024-08-31 08:00:00</td>\n",
       "      <td>08:00</td>\n",
       "      <td>85.546528</td>\n",
       "      <td>97.517698</td>\n",
       "      <td>1.040386</td>\n",
       "      <td>35.222671</td>\n",
       "      <td>49.160716</td>\n",
       "    </tr>\n",
       "    <tr>\n",
       "      <th>2</th>\n",
       "      <td>2024-08-31 09:00:00</td>\n",
       "      <td>09:00</td>\n",
       "      <td>66.480642</td>\n",
       "      <td>71.134189</td>\n",
       "      <td>1.896588</td>\n",
       "      <td>49.837261</td>\n",
       "      <td>50.277353</td>\n",
       "    </tr>\n",
       "    <tr>\n",
       "      <th>3</th>\n",
       "      <td>2024-08-31 10:00:00</td>\n",
       "      <td>10:00</td>\n",
       "      <td>56.346660</td>\n",
       "      <td>58.750849</td>\n",
       "      <td>0.375608</td>\n",
       "      <td>33.769560</td>\n",
       "      <td>49.086563</td>\n",
       "    </tr>\n",
       "    <tr>\n",
       "      <th>4</th>\n",
       "      <td>2024-08-31 11:00:00</td>\n",
       "      <td>11:00</td>\n",
       "      <td>43.269904</td>\n",
       "      <td>43.819673</td>\n",
       "      <td>0.184333</td>\n",
       "      <td>27.241791</td>\n",
       "      <td>50.306851</td>\n",
       "    </tr>\n",
       "    <tr>\n",
       "      <th>5</th>\n",
       "      <td>2024-08-31 12:00:00</td>\n",
       "      <td>12:00</td>\n",
       "      <td>48.963407</td>\n",
       "      <td>49.554130</td>\n",
       "      <td>0.133251</td>\n",
       "      <td>24.328236</td>\n",
       "      <td>51.604390</td>\n",
       "    </tr>\n",
       "    <tr>\n",
       "      <th>6</th>\n",
       "      <td>2024-08-31 13:00:00</td>\n",
       "      <td>13:00</td>\n",
       "      <td>70.766818</td>\n",
       "      <td>71.976855</td>\n",
       "      <td>0.019517</td>\n",
       "      <td>16.339508</td>\n",
       "      <td>53.030798</td>\n",
       "    </tr>\n",
       "    <tr>\n",
       "      <th>7</th>\n",
       "      <td>2024-08-31 14:00:00</td>\n",
       "      <td>14:00</td>\n",
       "      <td>86.268547</td>\n",
       "      <td>87.945547</td>\n",
       "      <td>0.026738</td>\n",
       "      <td>15.989767</td>\n",
       "      <td>51.973171</td>\n",
       "    </tr>\n",
       "    <tr>\n",
       "      <th>8</th>\n",
       "      <td>2024-08-31 15:00:00</td>\n",
       "      <td>15:00</td>\n",
       "      <td>82.709463</td>\n",
       "      <td>84.168204</td>\n",
       "      <td>0.164756</td>\n",
       "      <td>23.040625</td>\n",
       "      <td>51.527826</td>\n",
       "    </tr>\n",
       "    <tr>\n",
       "      <th>9</th>\n",
       "      <td>2024-08-31 16:00:00</td>\n",
       "      <td>16:00</td>\n",
       "      <td>97.113167</td>\n",
       "      <td>99.320370</td>\n",
       "      <td>0.112270</td>\n",
       "      <td>20.215995</td>\n",
       "      <td>49.768556</td>\n",
       "    </tr>\n",
       "    <tr>\n",
       "      <th>10</th>\n",
       "      <td>2024-08-31 17:00:00</td>\n",
       "      <td>17:00</td>\n",
       "      <td>98.933815</td>\n",
       "      <td>101.665796</td>\n",
       "      <td>0.014787</td>\n",
       "      <td>12.380247</td>\n",
       "      <td>49.019658</td>\n",
       "    </tr>\n",
       "    <tr>\n",
       "      <th>11</th>\n",
       "      <td>2024-08-31 18:00:00</td>\n",
       "      <td>18:00</td>\n",
       "      <td>43.995113</td>\n",
       "      <td>44.636981</td>\n",
       "      <td>0.007155</td>\n",
       "      <td>10.548108</td>\n",
       "      <td>52.297514</td>\n",
       "    </tr>\n",
       "    <tr>\n",
       "      <th>12</th>\n",
       "      <td>2024-08-31 19:00:00</td>\n",
       "      <td>19:00</td>\n",
       "      <td>47.167981</td>\n",
       "      <td>48.101259</td>\n",
       "      <td>0.018860</td>\n",
       "      <td>12.874083</td>\n",
       "      <td>53.988299</td>\n",
       "    </tr>\n",
       "    <tr>\n",
       "      <th>13</th>\n",
       "      <td>2024-08-31 20:00:00</td>\n",
       "      <td>20:00</td>\n",
       "      <td>63.958340</td>\n",
       "      <td>66.250075</td>\n",
       "      <td>0.006938</td>\n",
       "      <td>9.794638</td>\n",
       "      <td>51.660050</td>\n",
       "    </tr>\n",
       "    <tr>\n",
       "      <th>14</th>\n",
       "      <td>2024-08-31 21:00:00</td>\n",
       "      <td>21:00</td>\n",
       "      <td>113.530211</td>\n",
       "      <td>121.320474</td>\n",
       "      <td>0.000543</td>\n",
       "      <td>5.077715</td>\n",
       "      <td>44.838777</td>\n",
       "    </tr>\n",
       "  </tbody>\n",
       "</table>\n",
       "</div>"
      ],
      "text/plain": [
       "name                fecha   hora       PM2.5        PM10        CO        NO2  \\\n",
       "0     2024-08-31 07:00:00  07:00   94.848150  110.330450  0.000000   6.473047   \n",
       "1     2024-08-31 08:00:00  08:00   85.546528   97.517698  1.040386  35.222671   \n",
       "2     2024-08-31 09:00:00  09:00   66.480642   71.134189  1.896588  49.837261   \n",
       "3     2024-08-31 10:00:00  10:00   56.346660   58.750849  0.375608  33.769560   \n",
       "4     2024-08-31 11:00:00  11:00   43.269904   43.819673  0.184333  27.241791   \n",
       "5     2024-08-31 12:00:00  12:00   48.963407   49.554130  0.133251  24.328236   \n",
       "6     2024-08-31 13:00:00  13:00   70.766818   71.976855  0.019517  16.339508   \n",
       "7     2024-08-31 14:00:00  14:00   86.268547   87.945547  0.026738  15.989767   \n",
       "8     2024-08-31 15:00:00  15:00   82.709463   84.168204  0.164756  23.040625   \n",
       "9     2024-08-31 16:00:00  16:00   97.113167   99.320370  0.112270  20.215995   \n",
       "10    2024-08-31 17:00:00  17:00   98.933815  101.665796  0.014787  12.380247   \n",
       "11    2024-08-31 18:00:00  18:00   43.995113   44.636981  0.007155  10.548108   \n",
       "12    2024-08-31 19:00:00  19:00   47.167981   48.101259  0.018860  12.874083   \n",
       "13    2024-08-31 20:00:00  20:00   63.958340   66.250075  0.006938   9.794638   \n",
       "14    2024-08-31 21:00:00  21:00  113.530211  121.320474  0.000543   5.077715   \n",
       "\n",
       "name        SO2  \n",
       "0     53.355828  \n",
       "1     49.160716  \n",
       "2     50.277353  \n",
       "3     49.086563  \n",
       "4     50.306851  \n",
       "5     51.604390  \n",
       "6     53.030798  \n",
       "7     51.973171  \n",
       "8     51.527826  \n",
       "9     49.768556  \n",
       "10    49.019658  \n",
       "11    52.297514  \n",
       "12    53.988299  \n",
       "13    51.660050  \n",
       "14    44.838777  "
      ]
     },
     "execution_count": 155,
     "metadata": {},
     "output_type": "execute_result"
    }
   ],
   "source": [
    "pivot_df"
   ]
  },
  {
   "cell_type": "code",
   "execution_count": 157,
   "id": "bbf41b04-b3e7-4936-b74b-2c5f9f8fe48e",
   "metadata": {},
   "outputs": [
    {
     "data": {
      "text/html": [
       "<div>\n",
       "<style scoped>\n",
       "    .dataframe tbody tr th:only-of-type {\n",
       "        vertical-align: middle;\n",
       "    }\n",
       "\n",
       "    .dataframe tbody tr th {\n",
       "        vertical-align: top;\n",
       "    }\n",
       "\n",
       "    .dataframe thead th {\n",
       "        text-align: right;\n",
       "    }\n",
       "</style>\n",
       "<table border=\"1\" class=\"dataframe\">\n",
       "  <thead>\n",
       "    <tr style=\"text-align: right;\">\n",
       "      <th></th>\n",
       "      <th>hora</th>\n",
       "      <th>PM2</th>\n",
       "      <th>PM10</th>\n",
       "      <th>SO</th>\n",
       "      <th>NO</th>\n",
       "      <th>CO</th>\n",
       "      <th>hour</th>\n",
       "    </tr>\n",
       "  </thead>\n",
       "  <tbody>\n",
       "    <tr>\n",
       "      <th>15</th>\n",
       "      <td>08:00:00</td>\n",
       "      <td>43.5366</td>\n",
       "      <td>63.3896</td>\n",
       "      <td>4.1055</td>\n",
       "      <td>42.224</td>\n",
       "      <td>0</td>\n",
       "      <td>8</td>\n",
       "    </tr>\n",
       "    <tr>\n",
       "      <th>14</th>\n",
       "      <td>09:00:00</td>\n",
       "      <td>45.8280</td>\n",
       "      <td>64.1920</td>\n",
       "      <td>4.2075</td>\n",
       "      <td>43.526</td>\n",
       "      <td>0</td>\n",
       "      <td>9</td>\n",
       "    </tr>\n",
       "    <tr>\n",
       "      <th>13</th>\n",
       "      <td>10:00:00</td>\n",
       "      <td>42.7125</td>\n",
       "      <td>66.0690</td>\n",
       "      <td>4.6092</td>\n",
       "      <td>47.425</td>\n",
       "      <td>0</td>\n",
       "      <td>10</td>\n",
       "    </tr>\n",
       "    <tr>\n",
       "      <th>12</th>\n",
       "      <td>11:00:00</td>\n",
       "      <td>44.7225</td>\n",
       "      <td>68.1150</td>\n",
       "      <td>4.7070</td>\n",
       "      <td>52.850</td>\n",
       "      <td>0</td>\n",
       "      <td>11</td>\n",
       "    </tr>\n",
       "    <tr>\n",
       "      <th>11</th>\n",
       "      <td>12:00:00</td>\n",
       "      <td>47.7375</td>\n",
       "      <td>70.5000</td>\n",
       "      <td>4.3470</td>\n",
       "      <td>52.899</td>\n",
       "      <td>0</td>\n",
       "      <td>12</td>\n",
       "    </tr>\n",
       "    <tr>\n",
       "      <th>10</th>\n",
       "      <td>13:00:00</td>\n",
       "      <td>50.2500</td>\n",
       "      <td>71.7000</td>\n",
       "      <td>5.0300</td>\n",
       "      <td>59.270</td>\n",
       "      <td>0</td>\n",
       "      <td>13</td>\n",
       "    </tr>\n",
       "    <tr>\n",
       "      <th>9</th>\n",
       "      <td>14:00:00</td>\n",
       "      <td>52.0400</td>\n",
       "      <td>73.4100</td>\n",
       "      <td>5.2300</td>\n",
       "      <td>59.890</td>\n",
       "      <td>0</td>\n",
       "      <td>14</td>\n",
       "    </tr>\n",
       "    <tr>\n",
       "      <th>8</th>\n",
       "      <td>15:00:00</td>\n",
       "      <td>57.9500</td>\n",
       "      <td>80.2400</td>\n",
       "      <td>4.7900</td>\n",
       "      <td>60.320</td>\n",
       "      <td>0</td>\n",
       "      <td>15</td>\n",
       "    </tr>\n",
       "    <tr>\n",
       "      <th>7</th>\n",
       "      <td>16:00:00</td>\n",
       "      <td>66.0200</td>\n",
       "      <td>95.2600</td>\n",
       "      <td>4.7600</td>\n",
       "      <td>62.180</td>\n",
       "      <td>0</td>\n",
       "      <td>16</td>\n",
       "    </tr>\n",
       "    <tr>\n",
       "      <th>6</th>\n",
       "      <td>17:00:00</td>\n",
       "      <td>73.2300</td>\n",
       "      <td>109.0200</td>\n",
       "      <td>5.1700</td>\n",
       "      <td>67.750</td>\n",
       "      <td>0</td>\n",
       "      <td>17</td>\n",
       "    </tr>\n",
       "    <tr>\n",
       "      <th>5</th>\n",
       "      <td>18:00:00</td>\n",
       "      <td>77.4900</td>\n",
       "      <td>115.5500</td>\n",
       "      <td>5.0100</td>\n",
       "      <td>75.500</td>\n",
       "      <td>0</td>\n",
       "      <td>18</td>\n",
       "    </tr>\n",
       "    <tr>\n",
       "      <th>4</th>\n",
       "      <td>19:00:00</td>\n",
       "      <td>75.7600</td>\n",
       "      <td>108.2000</td>\n",
       "      <td>4.9500</td>\n",
       "      <td>75.570</td>\n",
       "      <td>0</td>\n",
       "      <td>19</td>\n",
       "    </tr>\n",
       "    <tr>\n",
       "      <th>3</th>\n",
       "      <td>20:00:00</td>\n",
       "      <td>68.5400</td>\n",
       "      <td>96.1100</td>\n",
       "      <td>5.2300</td>\n",
       "      <td>70.550</td>\n",
       "      <td>0</td>\n",
       "      <td>20</td>\n",
       "    </tr>\n",
       "    <tr>\n",
       "      <th>2</th>\n",
       "      <td>21:00:00</td>\n",
       "      <td>71.1100</td>\n",
       "      <td>99.5200</td>\n",
       "      <td>4.8300</td>\n",
       "      <td>65.030</td>\n",
       "      <td>0</td>\n",
       "      <td>21</td>\n",
       "    </tr>\n",
       "    <tr>\n",
       "      <th>1</th>\n",
       "      <td>22:00:00</td>\n",
       "      <td>90.3600</td>\n",
       "      <td>132.7300</td>\n",
       "      <td>4.9500</td>\n",
       "      <td>67.550</td>\n",
       "      <td>0</td>\n",
       "      <td>22</td>\n",
       "    </tr>\n",
       "    <tr>\n",
       "      <th>0</th>\n",
       "      <td>23:00:00</td>\n",
       "      <td>71.6100</td>\n",
       "      <td>98.9200</td>\n",
       "      <td>5.0200</td>\n",
       "      <td>67.310</td>\n",
       "      <td>0</td>\n",
       "      <td>23</td>\n",
       "    </tr>\n",
       "  </tbody>\n",
       "</table>\n",
       "</div>"
      ],
      "text/plain": [
       "        hora      PM2      PM10      SO      NO  CO  hour\n",
       "15  08:00:00  43.5366   63.3896  4.1055  42.224   0     8\n",
       "14  09:00:00  45.8280   64.1920  4.2075  43.526   0     9\n",
       "13  10:00:00  42.7125   66.0690  4.6092  47.425   0    10\n",
       "12  11:00:00  44.7225   68.1150  4.7070  52.850   0    11\n",
       "11  12:00:00  47.7375   70.5000  4.3470  52.899   0    12\n",
       "10  13:00:00  50.2500   71.7000  5.0300  59.270   0    13\n",
       "9   14:00:00  52.0400   73.4100  5.2300  59.890   0    14\n",
       "8   15:00:00  57.9500   80.2400  4.7900  60.320   0    15\n",
       "7   16:00:00  66.0200   95.2600  4.7600  62.180   0    16\n",
       "6   17:00:00  73.2300  109.0200  5.1700  67.750   0    17\n",
       "5   18:00:00  77.4900  115.5500  5.0100  75.500   0    18\n",
       "4   19:00:00  75.7600  108.2000  4.9500  75.570   0    19\n",
       "3   20:00:00  68.5400   96.1100  5.2300  70.550   0    20\n",
       "2   21:00:00  71.1100   99.5200  4.8300  65.030   0    21\n",
       "1   22:00:00  90.3600  132.7300  4.9500  67.550   0    22\n",
       "0   23:00:00  71.6100   98.9200  5.0200  67.310   0    23"
      ]
     },
     "execution_count": 157,
     "metadata": {},
     "output_type": "execute_result"
    }
   ],
   "source": [
    "datos31.sort_values(by=\"hour\")"
   ]
  },
  {
   "cell_type": "code",
   "execution_count": null,
   "id": "2e11a2a4-4895-48f8-832d-61e4db9e8fc8",
   "metadata": {},
   "outputs": [],
   "source": []
  }
 ],
 "metadata": {
  "kernelspec": {
   "display_name": "Python 3 (ipykernel)",
   "language": "python",
   "name": "python3"
  },
  "language_info": {
   "codemirror_mode": {
    "name": "ipython",
    "version": 3
   },
   "file_extension": ".py",
   "mimetype": "text/x-python",
   "name": "python",
   "nbconvert_exporter": "python",
   "pygments_lexer": "ipython3",
   "version": "3.12.4"
  }
 },
 "nbformat": 4,
 "nbformat_minor": 5
}
